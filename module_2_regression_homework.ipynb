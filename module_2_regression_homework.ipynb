{
 "cells": [
  {
   "cell_type": "code",
   "execution_count": 1,
   "id": "2c738d8c-2cfd-4469-bb7c-e2b21ae52741",
   "metadata": {},
   "outputs": [],
   "source": [
    "import pandas as pd"
   ]
  },
  {
   "cell_type": "code",
   "execution_count": 2,
   "id": "2f749fe4-d612-4d5c-8b26-617ca2daf851",
   "metadata": {},
   "outputs": [
    {
     "data": {
      "text/html": [
       "<div>\n",
       "<style scoped>\n",
       "    .dataframe tbody tr th:only-of-type {\n",
       "        vertical-align: middle;\n",
       "    }\n",
       "\n",
       "    .dataframe tbody tr th {\n",
       "        vertical-align: top;\n",
       "    }\n",
       "\n",
       "    .dataframe thead th {\n",
       "        text-align: right;\n",
       "    }\n",
       "</style>\n",
       "<table border=\"1\" class=\"dataframe\">\n",
       "  <thead>\n",
       "    <tr style=\"text-align: right;\">\n",
       "      <th></th>\n",
       "      <th>engine_displacement</th>\n",
       "      <th>num_cylinders</th>\n",
       "      <th>horsepower</th>\n",
       "      <th>vehicle_weight</th>\n",
       "      <th>acceleration</th>\n",
       "      <th>model_year</th>\n",
       "      <th>origin</th>\n",
       "      <th>fuel_type</th>\n",
       "      <th>drivetrain</th>\n",
       "      <th>num_doors</th>\n",
       "      <th>fuel_efficiency_mpg</th>\n",
       "    </tr>\n",
       "  </thead>\n",
       "  <tbody>\n",
       "    <tr>\n",
       "      <th>0</th>\n",
       "      <td>170</td>\n",
       "      <td>3.0</td>\n",
       "      <td>159.0</td>\n",
       "      <td>3413.433759</td>\n",
       "      <td>17.7</td>\n",
       "      <td>2003</td>\n",
       "      <td>Europe</td>\n",
       "      <td>Gasoline</td>\n",
       "      <td>All-wheel drive</td>\n",
       "      <td>0.0</td>\n",
       "      <td>13.231729</td>\n",
       "    </tr>\n",
       "    <tr>\n",
       "      <th>1</th>\n",
       "      <td>130</td>\n",
       "      <td>5.0</td>\n",
       "      <td>97.0</td>\n",
       "      <td>3149.664934</td>\n",
       "      <td>17.8</td>\n",
       "      <td>2007</td>\n",
       "      <td>USA</td>\n",
       "      <td>Gasoline</td>\n",
       "      <td>Front-wheel drive</td>\n",
       "      <td>0.0</td>\n",
       "      <td>13.688217</td>\n",
       "    </tr>\n",
       "    <tr>\n",
       "      <th>2</th>\n",
       "      <td>170</td>\n",
       "      <td>NaN</td>\n",
       "      <td>78.0</td>\n",
       "      <td>3079.038997</td>\n",
       "      <td>15.1</td>\n",
       "      <td>2018</td>\n",
       "      <td>Europe</td>\n",
       "      <td>Gasoline</td>\n",
       "      <td>Front-wheel drive</td>\n",
       "      <td>0.0</td>\n",
       "      <td>14.246341</td>\n",
       "    </tr>\n",
       "    <tr>\n",
       "      <th>3</th>\n",
       "      <td>220</td>\n",
       "      <td>4.0</td>\n",
       "      <td>NaN</td>\n",
       "      <td>2542.392402</td>\n",
       "      <td>20.2</td>\n",
       "      <td>2009</td>\n",
       "      <td>USA</td>\n",
       "      <td>Diesel</td>\n",
       "      <td>All-wheel drive</td>\n",
       "      <td>2.0</td>\n",
       "      <td>16.912736</td>\n",
       "    </tr>\n",
       "    <tr>\n",
       "      <th>4</th>\n",
       "      <td>210</td>\n",
       "      <td>1.0</td>\n",
       "      <td>140.0</td>\n",
       "      <td>3460.870990</td>\n",
       "      <td>14.4</td>\n",
       "      <td>2009</td>\n",
       "      <td>Europe</td>\n",
       "      <td>Gasoline</td>\n",
       "      <td>All-wheel drive</td>\n",
       "      <td>2.0</td>\n",
       "      <td>12.488369</td>\n",
       "    </tr>\n",
       "  </tbody>\n",
       "</table>\n",
       "</div>"
      ],
      "text/plain": [
       "   engine_displacement  num_cylinders  horsepower  vehicle_weight  \\\n",
       "0                  170            3.0       159.0     3413.433759   \n",
       "1                  130            5.0        97.0     3149.664934   \n",
       "2                  170            NaN        78.0     3079.038997   \n",
       "3                  220            4.0         NaN     2542.392402   \n",
       "4                  210            1.0       140.0     3460.870990   \n",
       "\n",
       "   acceleration  model_year  origin fuel_type         drivetrain  num_doors  \\\n",
       "0          17.7        2003  Europe  Gasoline    All-wheel drive        0.0   \n",
       "1          17.8        2007     USA  Gasoline  Front-wheel drive        0.0   \n",
       "2          15.1        2018  Europe  Gasoline  Front-wheel drive        0.0   \n",
       "3          20.2        2009     USA    Diesel    All-wheel drive        2.0   \n",
       "4          14.4        2009  Europe  Gasoline    All-wheel drive        2.0   \n",
       "\n",
       "   fuel_efficiency_mpg  \n",
       "0            13.231729  \n",
       "1            13.688217  \n",
       "2            14.246341  \n",
       "3            16.912736  \n",
       "4            12.488369  "
      ]
     },
     "execution_count": 2,
     "metadata": {},
     "output_type": "execute_result"
    }
   ],
   "source": [
    "df =pd.read_csv(\"https://raw.githubusercontent.com/alexeygrigorev/datasets/master/car_fuel_efficiency.csv\")\n",
    "df.head()"
   ]
  },
  {
   "cell_type": "code",
   "execution_count": 3,
   "id": "87ce2574-3b1c-48ed-8715-00a50f8cf2c3",
   "metadata": {},
   "outputs": [
    {
     "data": {
      "text/html": [
       "<div>\n",
       "<style scoped>\n",
       "    .dataframe tbody tr th:only-of-type {\n",
       "        vertical-align: middle;\n",
       "    }\n",
       "\n",
       "    .dataframe tbody tr th {\n",
       "        vertical-align: top;\n",
       "    }\n",
       "\n",
       "    .dataframe thead th {\n",
       "        text-align: right;\n",
       "    }\n",
       "</style>\n",
       "<table border=\"1\" class=\"dataframe\">\n",
       "  <thead>\n",
       "    <tr style=\"text-align: right;\">\n",
       "      <th></th>\n",
       "      <th>engine_displacement</th>\n",
       "      <th>horsepower</th>\n",
       "      <th>vehicle_weight</th>\n",
       "      <th>model_year</th>\n",
       "      <th>fuel_efficiency_mpg</th>\n",
       "    </tr>\n",
       "  </thead>\n",
       "  <tbody>\n",
       "    <tr>\n",
       "      <th>0</th>\n",
       "      <td>170</td>\n",
       "      <td>159.0</td>\n",
       "      <td>3413.433759</td>\n",
       "      <td>2003</td>\n",
       "      <td>13.231729</td>\n",
       "    </tr>\n",
       "    <tr>\n",
       "      <th>1</th>\n",
       "      <td>130</td>\n",
       "      <td>97.0</td>\n",
       "      <td>3149.664934</td>\n",
       "      <td>2007</td>\n",
       "      <td>13.688217</td>\n",
       "    </tr>\n",
       "    <tr>\n",
       "      <th>2</th>\n",
       "      <td>170</td>\n",
       "      <td>78.0</td>\n",
       "      <td>3079.038997</td>\n",
       "      <td>2018</td>\n",
       "      <td>14.246341</td>\n",
       "    </tr>\n",
       "    <tr>\n",
       "      <th>3</th>\n",
       "      <td>220</td>\n",
       "      <td>NaN</td>\n",
       "      <td>2542.392402</td>\n",
       "      <td>2009</td>\n",
       "      <td>16.912736</td>\n",
       "    </tr>\n",
       "    <tr>\n",
       "      <th>4</th>\n",
       "      <td>210</td>\n",
       "      <td>140.0</td>\n",
       "      <td>3460.870990</td>\n",
       "      <td>2009</td>\n",
       "      <td>12.488369</td>\n",
       "    </tr>\n",
       "  </tbody>\n",
       "</table>\n",
       "</div>"
      ],
      "text/plain": [
       "   engine_displacement  horsepower  vehicle_weight  model_year  \\\n",
       "0                  170       159.0     3413.433759        2003   \n",
       "1                  130        97.0     3149.664934        2007   \n",
       "2                  170        78.0     3079.038997        2018   \n",
       "3                  220         NaN     2542.392402        2009   \n",
       "4                  210       140.0     3460.870990        2009   \n",
       "\n",
       "   fuel_efficiency_mpg  \n",
       "0            13.231729  \n",
       "1            13.688217  \n",
       "2            14.246341  \n",
       "3            16.912736  \n",
       "4            12.488369  "
      ]
     },
     "execution_count": 3,
     "metadata": {},
     "output_type": "execute_result"
    }
   ],
   "source": [
    "cols = ['engine_displacement', 'horsepower', 'vehicle_weight', 'model_year', 'fuel_efficiency_mpg']\n",
    "df = df[cols]\n",
    "df.head()"
   ]
  },
  {
   "cell_type": "code",
   "execution_count": 4,
   "id": "cac81a84-0a25-4f6c-bec6-93b90050bd03",
   "metadata": {},
   "outputs": [
    {
     "name": "stdout",
     "output_type": "stream",
     "text": [
      "count    9704.000000\n",
      "mean       14.985243\n",
      "std         2.556468\n",
      "min         6.200971\n",
      "25%        13.267459\n",
      "50%        15.006037\n",
      "75%        16.707965\n",
      "max        25.967222\n",
      "Name: fuel_efficiency_mpg, dtype: float64\n"
     ]
    }
   ],
   "source": [
    "import pandas as pd\n",
    "print(df['fuel_efficiency_mpg'].describe())"
   ]
  },
  {
   "cell_type": "code",
   "execution_count": 5,
   "id": "5863a4d9-90f7-4f70-859a-0c6ca8ce33b6",
   "metadata": {},
   "outputs": [
    {
     "data": {
      "image/png": "[encoded data removed]",
      "text/plain": [
       "<Figure size 640x480 with 1 Axes>"
      ]
     },
     "metadata": {},
     "output_type": "display_data"
    }
   ],
   "source": [
    "import matplotlib.pyplot as plt\n",
    "import seaborn as sns\n",
    "sns.histplot(df['fuel_efficiency_mpg'], kde=True, bins=30)\n",
    "plt.title('Distribution of Fuel Efficiency (mpg)')\n",
    "plt.xlabel('fuel_efficiency_mpg')\n",
    "plt.ylabel('Count')\n",
    "plt.show()"
   ]
  },
  {
   "cell_type": "code",
   "execution_count": 6,
   "id": "697b5482-3723-4313-82d8-230d845c24b9",
   "metadata": {},
   "outputs": [
    {
     "name": "stdout",
     "output_type": "stream",
     "text": [
      "Skewness: -0.012062219273507922\n"
     ]
    }
   ],
   "source": [
    "skewness = df['fuel_efficiency_mpg'].skew()\n",
    "print(\"Skewness:\", skewness)\n"
   ]
  },
  {
   "cell_type": "code",
   "execution_count": 7,
   "id": "d2390a45-99b9-43eb-b3b0-59916530a814",
   "metadata": {},
   "outputs": [
    {
     "data": {
      "text/plain": [
       "engine_displacement      0\n",
       "horsepower             708\n",
       "vehicle_weight           0\n",
       "model_year               0\n",
       "fuel_efficiency_mpg      0\n",
       "dtype: int64"
      ]
     },
     "execution_count": 7,
     "metadata": {},
     "output_type": "execute_result"
    }
   ],
   "source": [
    "df.isnull().sum()"
   ]
  },
  {
   "cell_type": "code",
   "execution_count": 8,
   "id": "e30d32fd-855b-4ed2-beda-1881b3cdd40d",
   "metadata": {},
   "outputs": [
    {
     "name": "stdout",
     "output_type": "stream",
     "text": [
      "149.0\n"
     ]
    }
   ],
   "source": [
    "median_hp = df['horsepower'].median()\n",
    "print(median_hp)\n"
   ]
  },
  {
   "cell_type": "code",
   "execution_count": 12,
   "id": "813a380d-d24a-4e72-bced-3c936e5e7f03",
   "metadata": {},
   "outputs": [],
   "source": [
    "import numpy as np\n",
    "np.random.seed(42)\n",
    "df_filtered = df.sample(frac=1, random_state=42).reset_index(drop=True)\n"
   ]
  },
  {
   "cell_type": "code",
   "execution_count": 13,
   "id": "439b5114-63dc-43f4-bc2d-fd8183729750",
   "metadata": {},
   "outputs": [
    {
     "name": "stdout",
     "output_type": "stream",
     "text": [
      "5822 1940 1942\n"
     ]
    }
   ],
   "source": [
    "n = len(df_filtered)\n",
    "n_train = int(n * 0.6)\n",
    "n_val   = int(n * 0.2)\n",
    "n_test  = n - n_train - n_val  # remainder\n",
    "\n",
    "train = df_filtered.iloc[:n_train].copy()\n",
    "val   = df_filtered.iloc[n_train:n_train+n_val].copy()\n",
    "test  = df_filtered.iloc[n_train+n_val:].copy()\n",
    "\n",
    "print(len(train), len(val), len(test))  # sanity check\n"
   ]
  },
  {
   "cell_type": "code",
   "execution_count": 14,
   "id": "4d6b6b2b-0e9c-46ff-92f5-307abed5f9d1",
   "metadata": {},
   "outputs": [],
   "source": [
    "import numpy as np\n",
    "\n",
    "class LinearRegression:\n",
    "    def __init__(self):\n",
    "        self.w = None\n",
    "\n",
    "    def fit(self, X, y):\n",
    "        if not np.all(X[:,0] == 1):\n",
    "            X = np.hstack([np.ones((X.shape[0], 1)), X])\n",
    "        self.w = np.linalg.inv(X.T @ X) @ X.T @ y\n",
    "\n",
    "    def predict(self, X):\n",
    "        if not np.all(X[:,0] == 1):\n",
    "            X = np.hstack([np.ones((X.shape[0], 1)), X])\n",
    "        return X @ self.w\n"
   ]
  },
  {
   "cell_type": "code",
   "execution_count": 15,
   "id": "592f391a-753c-42f2-b9f9-092f4390dee9",
   "metadata": {},
   "outputs": [
    {
     "data": {
      "text/plain": [
       "np.float64(0.52)"
      ]
     },
     "execution_count": 15,
     "metadata": {},
     "output_type": "execute_result"
    }
   ],
   "source": [
    "features = ['engine_displacement', 'horsepower', 'vehicle_weight', 'model_year']\n",
    "target = 'fuel_efficiency_mpg'\n",
    "\n",
    "X_train = train[features].to_numpy()\n",
    "y_train = train[target].to_numpy()\n",
    "X_val = val[features].to_numpy()\n",
    "y_val = val[target].to_numpy()\n",
    "\n",
    "X_train_0 = np.where(np.isnan(X_train), 0, X_train)\n",
    "X_val_0 = np.where(np.isnan(X_val), 0, X_val)\n",
    "\n",
    "model_0 = LinearRegression()\n",
    "model_0.fit(X_train_0, y_train)\n",
    "y_pred_0 = model_0.predict(X_val_0)\n",
    "rmse_0 = round(np.sqrt(np.mean((y_val - y_pred_0) ** 2)), 2)\n",
    "rmse_0\n"
   ]
  },
  {
   "cell_type": "code",
   "execution_count": 16,
   "id": "c1da6e22-fc69-4e8d-8efc-14c480519957",
   "metadata": {},
   "outputs": [
    {
     "data": {
      "text/plain": [
       "np.float64(0.47)"
      ]
     },
     "execution_count": 16,
     "metadata": {},
     "output_type": "execute_result"
    }
   ],
   "source": [
    "mean_hp = np.nanmean(X_train[:, 1])\n",
    "X_train_mean = X_train.copy()\n",
    "X_val_mean = X_val.copy()\n",
    "X_train_mean[:, 1] = np.where(np.isnan(X_train_mean[:, 1]), mean_hp, X_train_mean[:, 1])\n",
    "X_val_mean[:, 1] = np.where(np.isnan(X_val_mean[:, 1]), mean_hp, X_val_mean[:, 1])\n",
    "\n",
    "model_mean = LinearRegression()\n",
    "model_mean.fit(X_train_mean, y_train)\n",
    "y_pred_mean = model_mean.predict(X_val_mean)\n",
    "rmse_mean = round(np.sqrt(np.mean((y_val - y_pred_mean) ** 2)), 2)\n",
    "rmse_mean\n"
   ]
  },
  {
   "cell_type": "code",
   "execution_count": 17,
   "id": "9f8ddd47-a63c-4c94-87bb-75413e80fe73",
   "metadata": {},
   "outputs": [],
   "source": [
    "import numpy as np\n",
    "\n",
    "class RidgeRegression:\n",
    "    def __init__(self, r):\n",
    "        self.r = r\n",
    "        self.w = None\n",
    "\n",
    "    def fit(self, X, y):\n",
    "        if not np.all(X[:,0] == 1):\n",
    "            X = np.hstack([np.ones((X.shape[0], 1)), X])\n",
    "        n_features = X.shape[1]\n",
    "        self.w = np.linalg.inv(X.T @ X + self.r * np.eye(n_features)) @ X.T @ y\n",
    "\n",
    "    def predict(self, X):\n",
    "        if not np.all(X[:,0] == 1):\n",
    "            X = np.hstack([np.ones((X.shape[0], 1)), X])\n",
    "        return X @ self.w\n"
   ]
  },
  {
   "cell_type": "code",
   "execution_count": 18,
   "id": "4b3db3e3-943d-459e-8fb5-7e55f1da8a03",
   "metadata": {},
   "outputs": [
    {
     "data": {
      "text/plain": [
       "{0: np.float64(0.52),\n",
       " 0.01: np.float64(0.52),\n",
       " 0.1: np.float64(0.53),\n",
       " 1: np.float64(0.53),\n",
       " 5: np.float64(0.53),\n",
       " 10: np.float64(0.53),\n",
       " 100: np.float64(0.53)}"
      ]
     },
     "execution_count": 18,
     "metadata": {},
     "output_type": "execute_result"
    }
   ],
   "source": [
    "features = ['engine_displacement', 'horsepower', 'vehicle_weight', 'model_year']\n",
    "target = 'fuel_efficiency_mpg'\n",
    "\n",
    "X_train = train[features].to_numpy()\n",
    "y_train = train[target].to_numpy()\n",
    "X_val = val[features].to_numpy()\n",
    "y_val = val[target].to_numpy()\n",
    "\n",
    "X_train = np.where(np.isnan(X_train), 0, X_train)\n",
    "X_val = np.where(np.isnan(X_val), 0, X_val)\n",
    "\n",
    "r_list = [0, 0.01, 0.1, 1, 5, 10, 100]\n",
    "rmse_scores = {}\n",
    "\n",
    "for r in r_list:\n",
    "    model = RidgeRegression(r)\n",
    "    model.fit(X_train, y_train)\n",
    "    y_pred = model.predict(X_val)\n",
    "    rmse_scores[r] = round(np.sqrt(np.mean((y_val - y_pred) ** 2)), 2)\n",
    "\n",
    "rmse_scores\n"
   ]
  },
  {
   "cell_type": "code",
   "execution_count": 19,
   "id": "e4c7aa24-ebb7-462e-84ba-ffcb7ce1adc9",
   "metadata": {},
   "outputs": [
    {
     "data": {
      "text/plain": [
       "np.float64(0.006)"
      ]
     },
     "execution_count": 19,
     "metadata": {},
     "output_type": "execute_result"
    }
   ],
   "source": [
    "import numpy as np\n",
    "\n",
    "features = ['engine_displacement', 'horsepower', 'vehicle_weight', 'model_year']\n",
    "target = 'fuel_efficiency_mpg'\n",
    "\n",
    "seeds = list(range(10))\n",
    "rmse_scores = []\n",
    "\n",
    "for seed in seeds:\n",
    "    np.random.seed(seed)\n",
    "    df_shuffled = df_filtered.sample(frac=1, random_state=seed).reset_index(drop=True)\n",
    "    \n",
    "    n = len(df_shuffled)\n",
    "    n_train = int(n * 0.6)\n",
    "    n_val   = int(n * 0.2)\n",
    "    n_test  = n - n_train - n_val\n",
    "    \n",
    "    train = df_shuffled.iloc[:n_train]\n",
    "    val   = df_shuffled.iloc[n_train:n_train+n_val]\n",
    "    \n",
    "    X_train = np.where(np.isnan(train[features].to_numpy()), 0, train[features].to_numpy())\n",
    "    y_train = train[target].to_numpy()\n",
    "    \n",
    "    X_val = np.where(np.isnan(val[features].to_numpy()), 0, val[features].to_numpy())\n",
    "    y_val = val[target].to_numpy()\n",
    "    \n",
    "    model = LinearRegression()\n",
    "    model.fit(X_train, y_train)\n",
    "    y_pred = model.predict(X_val)\n",
    "    \n",
    "    rmse = np.sqrt(np.mean((y_val - y_pred)**2))\n",
    "    rmse_scores.append(rmse)\n",
    "\n",
    "std_rmse = round(np.std(rmse_scores), 3)\n",
    "std_rmse\n"
   ]
  },
  {
   "cell_type": "code",
   "execution_count": 20,
   "id": "87d242f1-b5f0-46df-901b-0848f5abfb24",
   "metadata": {},
   "outputs": [
    {
     "data": {
      "text/plain": [
       "np.float64(0.522)"
      ]
     },
     "execution_count": 20,
     "metadata": {},
     "output_type": "execute_result"
    }
   ],
   "source": [
    "np.random.seed(9)\n",
    "df_shuffled = df_filtered.sample(frac=1, random_state=9).reset_index(drop=True)\n",
    "\n",
    "n = len(df_shuffled)\n",
    "n_train = int(n * 0.6)\n",
    "n_val   = int(n * 0.2)\n",
    "n_test  = n - n_train - n_val\n",
    "\n",
    "train = df_shuffled.iloc[:n_train]\n",
    "val   = df_shuffled.iloc[n_train:n_train+n_val]\n",
    "test  = df_shuffled.iloc[n_train+n_val:]\n",
    "\n",
    "train_val = pd.concat([train, val])\n",
    "\n",
    "X_train_val = np.where(np.isnan(train_val[features].to_numpy()), 0, train_val[features].to_numpy())\n",
    "y_train_val = train_val[target].to_numpy()\n",
    "\n",
    "X_test = np.where(np.isnan(test[features].to_numpy()), 0, test[features].to_numpy())\n",
    "y_test = test[target].to_numpy()\n",
    "\n",
    "model = RidgeRegression(r=0.001)\n",
    "model.fit(X_train_val, y_train_val)\n",
    "y_pred_test = model.predict(X_test)\n",
    "\n",
    "rmse_test = round(np.sqrt(np.mean((y_test - y_pred_test)**2)), 3)\n",
    "rmse_test\n"
   ]
  },
  {
   "cell_type": "code",
   "execution_count": null,
   "id": "1c6a7585-ed18-4710-8301-0061979d05ee",
   "metadata": {},
   "outputs": [],
   "source": []
  }
 ],
 "metadata": {
  "kernelspec": {
   "display_name": "Python 3 (ipykernel)",
   "language": "python",
   "name": "python3"
  },
  "language_info": {
   "codemirror_mode": {
    "name": "ipython",
    "version": 3
   },
   "file_extension": ".py",
   "mimetype": "text/x-python",
   "name": "python",
   "nbconvert_exporter": "python",
   "pygments_lexer": "ipython3",
   "version": "3.12.3"
  }
 },
 "nbformat": 4,
 "nbformat_minor": 5
}

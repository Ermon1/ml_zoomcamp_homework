{
 "cells": [
  {
   "cell_type": "code",
   "execution_count": 1,
   "id": "64c4d049-e7bb-48ba-b43f-9c177f30fd4f",
   "metadata": {},
   "outputs": [
    {
     "name": "stdout",
     "output_type": "stream",
     "text": [
      "Dataset shape: (1462, 9)\n"
     ]
    },
    {
     "data": {
      "text/html": [
       "<div>\n",
       "<style scoped>\n",
       "    .dataframe tbody tr th:only-of-type {\n",
       "        vertical-align: middle;\n",
       "    }\n",
       "\n",
       "    .dataframe tbody tr th {\n",
       "        vertical-align: top;\n",
       "    }\n",
       "\n",
       "    .dataframe thead th {\n",
       "        text-align: right;\n",
       "    }\n",
       "</style>\n",
       "<table border=\"1\" class=\"dataframe\">\n",
       "  <thead>\n",
       "    <tr style=\"text-align: right;\">\n",
       "      <th></th>\n",
       "      <th>lead_source</th>\n",
       "      <th>industry</th>\n",
       "      <th>number_of_courses_viewed</th>\n",
       "      <th>annual_income</th>\n",
       "      <th>employment_status</th>\n",
       "      <th>location</th>\n",
       "      <th>interaction_count</th>\n",
       "      <th>lead_score</th>\n",
       "      <th>converted</th>\n",
       "    </tr>\n",
       "  </thead>\n",
       "  <tbody>\n",
       "    <tr>\n",
       "      <th>0</th>\n",
       "      <td>paid_ads</td>\n",
       "      <td>NaN</td>\n",
       "      <td>1</td>\n",
       "      <td>79450.0</td>\n",
       "      <td>unemployed</td>\n",
       "      <td>south_america</td>\n",
       "      <td>4</td>\n",
       "      <td>0.94</td>\n",
       "      <td>1</td>\n",
       "    </tr>\n",
       "    <tr>\n",
       "      <th>1</th>\n",
       "      <td>social_media</td>\n",
       "      <td>retail</td>\n",
       "      <td>1</td>\n",
       "      <td>46992.0</td>\n",
       "      <td>employed</td>\n",
       "      <td>south_america</td>\n",
       "      <td>1</td>\n",
       "      <td>0.80</td>\n",
       "      <td>0</td>\n",
       "    </tr>\n",
       "    <tr>\n",
       "      <th>2</th>\n",
       "      <td>events</td>\n",
       "      <td>healthcare</td>\n",
       "      <td>5</td>\n",
       "      <td>78796.0</td>\n",
       "      <td>unemployed</td>\n",
       "      <td>australia</td>\n",
       "      <td>3</td>\n",
       "      <td>0.69</td>\n",
       "      <td>1</td>\n",
       "    </tr>\n",
       "    <tr>\n",
       "      <th>3</th>\n",
       "      <td>paid_ads</td>\n",
       "      <td>retail</td>\n",
       "      <td>2</td>\n",
       "      <td>83843.0</td>\n",
       "      <td>NaN</td>\n",
       "      <td>australia</td>\n",
       "      <td>1</td>\n",
       "      <td>0.87</td>\n",
       "      <td>0</td>\n",
       "    </tr>\n",
       "    <tr>\n",
       "      <th>4</th>\n",
       "      <td>referral</td>\n",
       "      <td>education</td>\n",
       "      <td>3</td>\n",
       "      <td>85012.0</td>\n",
       "      <td>self_employed</td>\n",
       "      <td>europe</td>\n",
       "      <td>3</td>\n",
       "      <td>0.62</td>\n",
       "      <td>1</td>\n",
       "    </tr>\n",
       "  </tbody>\n",
       "</table>\n",
       "</div>"
      ],
      "text/plain": [
       "    lead_source    industry  number_of_courses_viewed  annual_income  \\\n",
       "0      paid_ads         NaN                         1        79450.0   \n",
       "1  social_media      retail                         1        46992.0   \n",
       "2        events  healthcare                         5        78796.0   \n",
       "3      paid_ads      retail                         2        83843.0   \n",
       "4      referral   education                         3        85012.0   \n",
       "\n",
       "  employment_status       location  interaction_count  lead_score  converted  \n",
       "0        unemployed  south_america                  4        0.94          1  \n",
       "1          employed  south_america                  1        0.80          0  \n",
       "2        unemployed      australia                  3        0.69          1  \n",
       "3               NaN      australia                  1        0.87          0  \n",
       "4     self_employed         europe                  3        0.62          1  "
      ]
     },
     "execution_count": 1,
     "metadata": {},
     "output_type": "execute_result"
    }
   ],
   "source": [
    "# Cell 1: Import libraries and load data\n",
    "import pandas as pd\n",
    "import numpy as np\n",
    "import matplotlib.pyplot as plt\n",
    "from sklearn.model_selection import train_test_split, KFold\n",
    "from sklearn.feature_extraction import DictVectorizer\n",
    "from sklearn.linear_model import LogisticRegression\n",
    "from sklearn.metrics import roc_auc_score, precision_score, recall_score, f1_score\n",
    "from tqdm.auto import tqdm\n",
    "import warnings\n",
    "warnings.filterwarnings('ignore')\n",
    "\n",
    "# Load the dataset\n",
    "url = \"https://raw.githubusercontent.com/alexeygrigorev/datasets/master/course_lead_scoring.csv\"\n",
    "df = pd.read_csv(url)\n",
    "print(\"Dataset shape:\", df.shape)\n",
    "df.head()"
   ]
  },
  {
   "cell_type": "code",
   "execution_count": 2,
   "id": "499c1713-7469-4215-b3c0-327ee7b2ce25",
   "metadata": {},
   "outputs": [
    {
     "name": "stdout",
     "output_type": "stream",
     "text": [
      "Missing values before processing:\n",
      "lead_source                 128\n",
      "industry                    134\n",
      "number_of_courses_viewed      0\n",
      "annual_income               181\n",
      "employment_status           100\n",
      "location                     63\n",
      "interaction_count             0\n",
      "lead_score                    0\n",
      "converted                     0\n",
      "dtype: int64\n",
      "\n",
      "Categorical columns: ['lead_source', 'industry', 'employment_status', 'location']\n",
      "Numerical columns: ['number_of_courses_viewed', 'annual_income', 'interaction_count', 'lead_score']\n",
      "\n",
      "Missing values after processing:\n",
      "lead_source                 0\n",
      "industry                    0\n",
      "number_of_courses_viewed    0\n",
      "annual_income               0\n",
      "employment_status           0\n",
      "location                    0\n",
      "interaction_count           0\n",
      "lead_score                  0\n",
      "converted                   0\n",
      "dtype: int64\n"
     ]
    }
   ],
   "source": [
    "# Cell 2: Data preparation\n",
    "# Check for missing values\n",
    "print(\"Missing values before processing:\")\n",
    "print(df.isnull().sum())\n",
    "\n",
    "# Create a copy for processing\n",
    "data = df.copy()\n",
    "\n",
    "# Separate categorical and numerical features\n",
    "categorical_cols = data.select_dtypes(include=['object']).columns.tolist()\n",
    "numerical_cols = data.select_dtypes(include=[np.number]).columns.tolist()\n",
    "\n",
    "# Remove target from numerical cols\n",
    "if 'converted' in numerical_cols:\n",
    "    numerical_cols.remove('converted')\n",
    "\n",
    "print(f\"\\nCategorical columns: {categorical_cols}\")\n",
    "print(f\"Numerical columns: {numerical_cols}\")\n",
    "\n",
    "# Fill missing values\n",
    "for col in categorical_cols:\n",
    "    data[col] = data[col].fillna('NA')\n",
    "\n",
    "for col in numerical_cols:\n",
    "    data[col] = data[col].fillna(0.0)\n",
    "\n",
    "print(\"\\nMissing values after processing:\")\n",
    "print(data.isnull().sum())"
   ]
  },
  {
   "cell_type": "code",
   "execution_count": 3,
   "id": "e4404619-5b97-4def-97a0-a29e71e48b56",
   "metadata": {},
   "outputs": [
    {
     "name": "stdout",
     "output_type": "stream",
     "text": [
      "Train set: 876 samples\n",
      "Validation set: 293 samples\n",
      "Test set: 293 samples\n"
     ]
    }
   ],
   "source": [
    "# Cell 3: Split the data\n",
    "# Split the data into train/validation/test with 60%/20%/20% distribution\n",
    "df_full_train, df_test = train_test_split(data, test_size=0.2, random_state=1)\n",
    "df_train, df_val = train_test_split(df_full_train, test_size=0.25, random_state=1)  # 0.25 * 0.8 = 0.2\n",
    "\n",
    "print(f\"Train set: {df_train.shape[0]} samples\")\n",
    "print(f\"Validation set: {df_val.shape[0]} samples\")\n",
    "print(f\"Test set: {df_test.shape[0]} samples\")\n",
    "\n",
    "# Prepare target variables\n",
    "y_train = df_train.converted.values\n",
    "y_val = df_val.converted.values\n",
    "y_test = df_test.converted.values\n",
    "\n",
    "# Remove target from features\n",
    "del df_train['converted']\n",
    "del df_val['converted']\n",
    "del df_test['converted']"
   ]
  },
  {
   "cell_type": "code",
   "execution_count": 4,
   "id": "7c84ad53-7d2b-40ac-88bb-6a1c9aeefe0d",
   "metadata": {},
   "outputs": [
    {
     "name": "stdout",
     "output_type": "stream",
     "text": [
      "lead_score: AUC = 0.6145\n",
      "number_of_courses_viewed: AUC = 0.7636\n",
      "interaction_count: AUC = 0.7383\n",
      "annual_income: AUC = 0.5520\n",
      "\n",
      "Question 1: Numerical variable with highest AUC: number_of_courses_viewed (AUC: 0.7636)\n"
     ]
    }
   ],
   "source": [
    "# Cell 4: Question 1 - ROC AUC feature importance\n",
    "numerical_vars = ['lead_score', 'number_of_courses_viewed', 'interaction_count', 'annual_income']\n",
    "auc_scores = {}\n",
    "\n",
    "for var in numerical_vars:\n",
    "    scores = df_train[var].values\n",
    "    \n",
    "    # If AUC < 0.5, invert the variable\n",
    "    auc = roc_auc_score(y_train, scores)\n",
    "    if auc < 0.5:\n",
    "        scores = -scores\n",
    "        auc = roc_auc_score(y_train, scores)\n",
    "    \n",
    "    auc_scores[var] = auc\n",
    "    print(f\"{var}: AUC = {auc:.4f}\")\n",
    "\n",
    "best_var = max(auc_scores, key=auc_scores.get)\n",
    "best_auc = auc_scores[best_var]\n",
    "print(f\"\\nQuestion 1: Numerical variable with highest AUC: {best_var} (AUC: {best_auc:.4f})\")"
   ]
  },
  {
   "cell_type": "code",
   "execution_count": 5,
   "id": "772d703e-7c08-4875-bb46-c0cb1a9c5945",
   "metadata": {},
   "outputs": [
    {
     "name": "stdout",
     "output_type": "stream",
     "text": [
      "Question 2: AUC on validation dataset: 0.817\n"
     ]
    }
   ],
   "source": [
    "# Cell 5: Question 2 - Training the model\n",
    "# Prepare features for DictVectorizer\n",
    "train_dict = df_train.to_dict(orient='records')\n",
    "val_dict = df_val.to_dict(orient='records')\n",
    "\n",
    "# Apply one-hot encoding\n",
    "dv = DictVectorizer(sparse=False)\n",
    "X_train = dv.fit_transform(train_dict)\n",
    "X_val = dv.transform(val_dict)\n",
    "\n",
    "# Train logistic regression\n",
    "model = LogisticRegression(solver='liblinear', C=1.0, max_iter=1000)\n",
    "model.fit(X_train, y_train)\n",
    "\n",
    "# Predict probabilities\n",
    "y_val_pred = model.predict_proba(X_val)[:, 1]\n",
    "\n",
    "# Calculate AUC\n",
    "auc_val = roc_auc_score(y_val, y_val_pred)\n",
    "print(f\"Question 2: AUC on validation dataset: {auc_val:.3f}\")"
   ]
  },
  {
   "cell_type": "code",
   "execution_count": 6,
   "id": "a6d5c263-b251-4d21-a582-5b885c77a353",
   "metadata": {},
   "outputs": [
    {
     "name": "stdout",
     "output_type": "stream",
     "text": [
      "Question 3: Threshold where precision and recall intersect: 0.980\n"
     ]
    },
    {
     "data": {
      "image/png": "[encoded data removed]",
      "text/plain": [
       "<Figure size 800x600 with 1 Axes>"
      ]
     },
     "metadata": {},
     "output_type": "display_data"
    }
   ],
   "source": [
    "# Cell 6: Question 3 - Precision and Recall\n",
    "# Calculate precision and recall for different thresholds\n",
    "thresholds = np.linspace(0, 1, 101)\n",
    "precisions = []\n",
    "recalls = []\n",
    "\n",
    "for t in thresholds:\n",
    "    y_pred = (y_val_pred >= t).astype(int)\n",
    "    prec = precision_score(y_val, y_pred, zero_division=0)\n",
    "    rec = recall_score(y_val, y_pred, zero_division=0)\n",
    "    precisions.append(prec)\n",
    "    recalls.append(rec)\n",
    "\n",
    "# Find intersection point\n",
    "intersection_threshold = None\n",
    "min_diff = float('inf')\n",
    "\n",
    "for i, (p, r) in enumerate(zip(precisions, recalls)):\n",
    "    diff = abs(p - r)\n",
    "    if diff < min_diff:\n",
    "        min_diff = diff\n",
    "        intersection_threshold = thresholds[i]\n",
    "\n",
    "print(f\"Question 3: Threshold where precision and recall intersect: {intersection_threshold:.3f}\")\n",
    "\n",
    "# Plot\n",
    "plt.figure(figsize=(8, 6))\n",
    "plt.plot(thresholds, precisions, label='Precision')\n",
    "plt.plot(thresholds, recalls, label='Recall')\n",
    "plt.axvline(x=intersection_threshold, color='red', linestyle='--', label=f'Intersection: {intersection_threshold:.3f}')\n",
    "plt.xlabel('Threshold')\n",
    "plt.ylabel('Score')\n",
    "plt.title('Precision and Recall vs Threshold')\n",
    "plt.legend()\n",
    "plt.grid(True)\n",
    "plt.show()"
   ]
  },
  {
   "cell_type": "code",
   "execution_count": 7,
   "id": "ceb92427-1ba6-48a5-b5b4-59647dd8f770",
   "metadata": {},
   "outputs": [
    {
     "name": "stdout",
     "output_type": "stream",
     "text": [
      "Question 4: Threshold with maximum F1 score: 0.57\n",
      "Maximum F1 score: 0.8125\n"
     ]
    },
    {
     "data": {
      "image/png": "[encoded data removed]",
      "text/plain": [
       "<Figure size 800x600 with 1 Axes>"
      ]
     },
     "metadata": {},
     "output_type": "display_data"
    }
   ],
   "source": [
    "# Cell 7: Question 4 - F1 score\n",
    "# Calculate F1 score for different thresholds\n",
    "f1_scores = []\n",
    "\n",
    "for t in thresholds:\n",
    "    y_pred = (y_val_pred >= t).astype(int)\n",
    "    f1 = f1_score(y_val, y_pred, zero_division=0)\n",
    "    f1_scores.append(f1)\n",
    "\n",
    "# Find threshold with maximum F1 score\n",
    "max_f1_idx = np.argmax(f1_scores)\n",
    "max_f1_threshold = thresholds[max_f1_idx]\n",
    "max_f1_value = f1_scores[max_f1_idx]\n",
    "\n",
    "print(f\"Question 4: Threshold with maximum F1 score: {max_f1_threshold:.2f}\")\n",
    "print(f\"Maximum F1 score: {max_f1_value:.4f}\")\n",
    "\n",
    "# Plot\n",
    "plt.figure(figsize=(8, 6))\n",
    "plt.plot(thresholds, f1_scores, label='F1 Score', color='green')\n",
    "plt.axvline(x=max_f1_threshold, color='red', linestyle='--', label=f'Max F1: {max_f1_threshold:.2f}')\n",
    "plt.xlabel('Threshold')\n",
    "plt.ylabel('F1 Score')\n",
    "plt.title('F1 Score vs Threshold')\n",
    "plt.legend()\n",
    "plt.grid(True)\n",
    "plt.show()"
   ]
  },
  {
   "cell_type": "code",
   "execution_count": 8,
   "id": "8e440d1a-24e8-4e9f-b3c9-31ec775b46f8",
   "metadata": {},
   "outputs": [
    {
     "name": "stdout",
     "output_type": "stream",
     "text": [
      "5-Fold CV Scores: ['0.8061', '0.8714', '0.7754', '0.8018', '0.8558']\n",
      "Mean AUC: 0.8221\n",
      "Standard deviation: 0.0358\n",
      "\n",
      "Question 5: Standard deviation of scores across folds: 0.0358\n"
     ]
    }
   ],
   "source": [
    "# Cell 8: Question 5 - 5-Fold CV\n",
    "def train_logistic_regression(df_train, y_train, C=1.0):\n",
    "    train_dict = df_train.to_dict(orient='records')\n",
    "    dv = DictVectorizer(sparse=False)\n",
    "    X_train = dv.fit_transform(train_dict)\n",
    "    \n",
    "    model = LogisticRegression(solver='liblinear', C=C, max_iter=1000)\n",
    "    model.fit(X_train, y_train)\n",
    "    \n",
    "    return dv, model\n",
    "\n",
    "def predict_logistic_regression(df, dv, model):\n",
    "    dict_data = df.to_dict(orient='records')\n",
    "    X = dv.transform(dict_data)\n",
    "    y_pred = model.predict_proba(X)[:, 1]\n",
    "    return y_pred\n",
    "\n",
    "# 5-Fold Cross Validation\n",
    "kfold = KFold(n_splits=5, shuffle=True, random_state=1)\n",
    "scores = []\n",
    "\n",
    "for train_idx, val_idx in kfold.split(df_full_train):\n",
    "    df_train_fold = df_full_train.iloc[train_idx].copy()\n",
    "    df_val_fold = df_full_train.iloc[val_idx].copy()\n",
    "    \n",
    "    y_train_fold = df_train_fold.converted.values\n",
    "    y_val_fold = df_val_fold.converted.values\n",
    "    \n",
    "    del df_train_fold['converted']\n",
    "    del df_val_fold['converted']\n",
    "    \n",
    "    dv, model = train_logistic_regression(df_train_fold, y_train_fold, C=1.0)\n",
    "    y_pred_fold = predict_logistic_regression(df_val_fold, dv, model)\n",
    "    \n",
    "    auc_fold = roc_auc_score(y_val_fold, y_pred_fold)\n",
    "    scores.append(auc_fold)\n",
    "\n",
    "print(\"5-Fold CV Scores:\", [f\"{score:.4f}\" for score in scores])\n",
    "print(f\"Mean AUC: {np.mean(scores):.4f}\")\n",
    "print(f\"Standard deviation: {np.std(scores):.4f}\")\n",
    "\n",
    "std_dev = np.std(scores)\n",
    "print(f\"\\nQuestion 5: Standard deviation of scores across folds: {std_dev:.4f}\")"
   ]
  },
  {
   "cell_type": "code",
   "execution_count": 9,
   "id": "5866969e-cbdc-4d94-9918-50e800f0efb2",
   "metadata": {},
   "outputs": [
    {
     "data": {
      "application/vnd.jupyter.widget-view+json": {
       "model_id": "aeb0756a8ccc4b7e903a36ffd4b5fc08",
       "version_major": 2,
       "version_minor": 0
      },
      "text/plain": [
       "  0%|          | 0/3 [00:00<?, ?it/s]"
      ]
     },
     "metadata": {},
     "output_type": "display_data"
    },
    {
     "name": "stdout",
     "output_type": "stream",
     "text": [
      "C=1e-06: Mean AUC = 0.560 ± 0.024\n",
      "C=0.001: Mean AUC = 0.867 ± 0.029\n",
      "C=1: Mean AUC = 0.822 ± 0.036\n",
      "\n",
      "Question 6: Best C value: 0.001\n",
      "Best mean AUC: 0.867 ± 0.029\n"
     ]
    }
   ],
   "source": [
    "# Cell 9: Question 6 - Hyperparameter Tuning\n",
    "C_values = [0.000001, 0.001, 1]\n",
    "results = []\n",
    "\n",
    "for C in tqdm(C_values):\n",
    "    kfold = KFold(n_splits=5, shuffle=True, random_state=1)\n",
    "    scores = []\n",
    "    \n",
    "    for train_idx, val_idx in kfold.split(df_full_train):\n",
    "        df_train_fold = df_full_train.iloc[train_idx].copy()\n",
    "        df_val_fold = df_full_train.iloc[val_idx].copy()\n",
    "        \n",
    "        y_train_fold = df_train_fold.converted.values\n",
    "        y_val_fold = df_val_fold.converted.values\n",
    "        \n",
    "        del df_train_fold['converted']\n",
    "        del df_val_fold['converted']\n",
    "        \n",
    "        dv, model = train_logistic_regression(df_train_fold, y_train_fold, C=C)\n",
    "        y_pred_fold = predict_logistic_regression(df_val_fold, dv, model)\n",
    "        \n",
    "        auc_fold = roc_auc_score(y_val_fold, y_pred_fold)\n",
    "        scores.append(auc_fold)\n",
    "    \n",
    "    mean_score = np.mean(scores)\n",
    "    std_score = np.std(scores)\n",
    "    results.append((C, mean_score, std_score))\n",
    "    print(f\"C={C}: Mean AUC = {mean_score:.3f} ± {std_score:.3f}\")\n",
    "\n",
    "# Find best C\n",
    "best_result = max(results, key=lambda x: (x[1], -x[2]))  # Max mean, min std if tie\n",
    "best_C = best_result[0]\n",
    "best_mean = best_result[1]\n",
    "best_std = best_result[2]\n",
    "\n",
    "print(f\"\\nQuestion 6: Best C value: {best_C}\")\n",
    "print(f\"Best mean AUC: {best_mean:.3f} ± {best_std:.3f}\")"
   ]
  },
  {
   "cell_type": "code",
   "execution_count": null,
   "id": "ab0f1e45-fab1-479a-9382-8c66ae42bcde",
   "metadata": {},
   "outputs": [],
   "source": []
  }
 ],
 "metadata": {
  "kernelspec": {
   "display_name": "Python 3 (ipykernel)",
   "language": "python",
   "name": "python3"
  },
  "language_info": {
   "codemirror_mode": {
    "name": "ipython",
    "version": 3
   },
   "file_extension": ".py",
   "mimetype": "text/x-python",
   "name": "python",
   "nbconvert_exporter": "python",
   "pygments_lexer": "ipython3",
   "version": "3.12.3"
  }
 },
 "nbformat": 4,
 "nbformat_minor": 5
}

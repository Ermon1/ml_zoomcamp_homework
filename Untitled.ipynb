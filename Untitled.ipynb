{
 "cells": [
  {
   "cell_type": "code",
   "execution_count": 2,
   "id": "716da76f-eaed-4cc3-a0fa-20fb026274f7",
   "metadata": {},
   "outputs": [
    {
     "name": "stdout",
     "output_type": "stream",
     "text": [
      "Dataset shape: (1462, 9)\n"
     ]
    },
    {
     "data": {
      "text/html": [
       "<div>\n",
       "<style scoped>\n",
       "    .dataframe tbody tr th:only-of-type {\n",
       "        vertical-align: middle;\n",
       "    }\n",
       "\n",
       "    .dataframe tbody tr th {\n",
       "        vertical-align: top;\n",
       "    }\n",
       "\n",
       "    .dataframe thead th {\n",
       "        text-align: right;\n",
       "    }\n",
       "</style>\n",
       "<table border=\"1\" class=\"dataframe\">\n",
       "  <thead>\n",
       "    <tr style=\"text-align: right;\">\n",
       "      <th></th>\n",
       "      <th>lead_source</th>\n",
       "      <th>industry</th>\n",
       "      <th>number_of_courses_viewed</th>\n",
       "      <th>annual_income</th>\n",
       "      <th>employment_status</th>\n",
       "      <th>location</th>\n",
       "      <th>interaction_count</th>\n",
       "      <th>lead_score</th>\n",
       "      <th>converted</th>\n",
       "    </tr>\n",
       "  </thead>\n",
       "  <tbody>\n",
       "    <tr>\n",
       "      <th>0</th>\n",
       "      <td>paid_ads</td>\n",
       "      <td>NaN</td>\n",
       "      <td>1</td>\n",
       "      <td>79450.0</td>\n",
       "      <td>unemployed</td>\n",
       "      <td>south_america</td>\n",
       "      <td>4</td>\n",
       "      <td>0.94</td>\n",
       "      <td>1</td>\n",
       "    </tr>\n",
       "    <tr>\n",
       "      <th>1</th>\n",
       "      <td>social_media</td>\n",
       "      <td>retail</td>\n",
       "      <td>1</td>\n",
       "      <td>46992.0</td>\n",
       "      <td>employed</td>\n",
       "      <td>south_america</td>\n",
       "      <td>1</td>\n",
       "      <td>0.80</td>\n",
       "      <td>0</td>\n",
       "    </tr>\n",
       "    <tr>\n",
       "      <th>2</th>\n",
       "      <td>events</td>\n",
       "      <td>healthcare</td>\n",
       "      <td>5</td>\n",
       "      <td>78796.0</td>\n",
       "      <td>unemployed</td>\n",
       "      <td>australia</td>\n",
       "      <td>3</td>\n",
       "      <td>0.69</td>\n",
       "      <td>1</td>\n",
       "    </tr>\n",
       "    <tr>\n",
       "      <th>3</th>\n",
       "      <td>paid_ads</td>\n",
       "      <td>retail</td>\n",
       "      <td>2</td>\n",
       "      <td>83843.0</td>\n",
       "      <td>NaN</td>\n",
       "      <td>australia</td>\n",
       "      <td>1</td>\n",
       "      <td>0.87</td>\n",
       "      <td>0</td>\n",
       "    </tr>\n",
       "    <tr>\n",
       "      <th>4</th>\n",
       "      <td>referral</td>\n",
       "      <td>education</td>\n",
       "      <td>3</td>\n",
       "      <td>85012.0</td>\n",
       "      <td>self_employed</td>\n",
       "      <td>europe</td>\n",
       "      <td>3</td>\n",
       "      <td>0.62</td>\n",
       "      <td>1</td>\n",
       "    </tr>\n",
       "  </tbody>\n",
       "</table>\n",
       "</div>"
      ],
      "text/plain": [
       "    lead_source    industry  number_of_courses_viewed  annual_income  \\\n",
       "0      paid_ads         NaN                         1        79450.0   \n",
       "1  social_media      retail                         1        46992.0   \n",
       "2        events  healthcare                         5        78796.0   \n",
       "3      paid_ads      retail                         2        83843.0   \n",
       "4      referral   education                         3        85012.0   \n",
       "\n",
       "  employment_status       location  interaction_count  lead_score  converted  \n",
       "0        unemployed  south_america                  4        0.94          1  \n",
       "1          employed  south_america                  1        0.80          0  \n",
       "2        unemployed      australia                  3        0.69          1  \n",
       "3               NaN      australia                  1        0.87          0  \n",
       "4     self_employed         europe                  3        0.62          1  "
      ]
     },
     "execution_count": 2,
     "metadata": {},
     "output_type": "execute_result"
    }
   ],
   "source": [
    "import pandas as pd\n",
    "import numpy as np\n",
    "from sklearn.model_selection import train_test_split\n",
    "from sklearn.linear_model import LogisticRegression\n",
    "from sklearn.metrics import accuracy_score\n",
    "from sklearn.feature_selection import mutual_info_classif\n",
    "import warnings\n",
    "warnings.filterwarnings('ignore')\n",
    "\n",
    "\n",
    "url = \"https://raw.githubusercontent.com/alexeygrigorev/datasets/master/course_lead_scoring.csv\"\n",
    "df = pd.read_csv(url)\n",
    "print(\"Dataset shape:\", df.shape)\n",
    "df.head()"
   ]
  },
  {
   "cell_type": "code",
   "execution_count": 3,
   "id": "b7b1e2cf-a931-4daa-b39f-7592539f04eb",
   "metadata": {},
   "outputs": [
    {
     "name": "stdout",
     "output_type": "stream",
     "text": [
      "Missing values before processing:\n",
      "lead_source                 128\n",
      "industry                    134\n",
      "number_of_courses_viewed      0\n",
      "annual_income               181\n",
      "employment_status           100\n",
      "location                     63\n",
      "interaction_count             0\n",
      "lead_score                    0\n",
      "converted                     0\n",
      "dtype: int64\n",
      "\n",
      "Categorical columns: ['lead_source', 'industry', 'employment_status', 'location']\n",
      "Numerical columns: ['number_of_courses_viewed', 'annual_income', 'interaction_count', 'lead_score']\n",
      "\n",
      "Missing values after processing:\n",
      "lead_source                 0\n",
      "industry                    0\n",
      "number_of_courses_viewed    0\n",
      "annual_income               0\n",
      "employment_status           0\n",
      "location                    0\n",
      "interaction_count           0\n",
      "lead_score                  0\n",
      "converted                   0\n",
      "dtype: int64\n"
     ]
    }
   ],
   "source": [
    "print(\"Missing values before processing:\")\n",
    "print(df.isnull().sum())\n",
    "\n",
    "data = df.copy()\n",
    "\n",
    "categorical_cols = data.select_dtypes(include=['object']).columns.tolist()\n",
    "numerical_cols = data.select_dtypes(include=[np.number]).columns.tolist()\n",
    "\n",
    "\n",
    "if 'converted' in numerical_cols:\n",
    "    numerical_cols.remove('converted')\n",
    "\n",
    "print(f\"\\nCategorical columns: {categorical_cols}\")\n",
    "print(f\"Numerical columns: {numerical_cols}\")\n",
    "\n",
    "for col in categorical_cols:\n",
    "    data[col] = data[col].fillna('NA')\n",
    "\n",
    "for col in numerical_cols:\n",
    "    data[col] = data[col].fillna(0.0)\n",
    "\n",
    "print(\"\\nMissing values after processing:\")\n",
    "print(data.isnull().sum())"
   ]
  },
  {
   "cell_type": "code",
   "execution_count": 4,
   "id": "82f75d95-832d-4dcb-92c1-8921d40e1e75",
   "metadata": {},
   "outputs": [
    {
     "name": "stdout",
     "output_type": "stream",
     "text": [
      "Question 1: Most frequent observation for 'industry': retail\n"
     ]
    }
   ],
   "source": [
    "# Cell 3: Question 1 - Most frequent observation for industry\n",
    "industry_mode = data['industry'].mode()[0]\n",
    "print(f\"Question 1: Most frequent observation for 'industry': {industry_mode}\")"
   ]
  },
  {
   "cell_type": "code",
   "execution_count": 5,
   "id": "c68159bb-e82f-44f7-87bb-170ef6454f6d",
   "metadata": {},
   "outputs": [
    {
     "name": "stdout",
     "output_type": "stream",
     "text": [
      "Correlation Matrix:\n",
      "                          number_of_courses_viewed  annual_income  \\\n",
      "number_of_courses_viewed                  1.000000       0.009770   \n",
      "annual_income                             0.009770       1.000000   \n",
      "interaction_count                        -0.023565       0.027036   \n",
      "lead_score                               -0.004879       0.015610   \n",
      "\n",
      "                          interaction_count  lead_score  \n",
      "number_of_courses_viewed          -0.023565   -0.004879  \n",
      "annual_income                      0.027036    0.015610  \n",
      "interaction_count                  1.000000    0.009888  \n",
      "lead_score                         0.009888    1.000000  \n",
      "\n",
      "Top correlated pairs:\n",
      "annual_income & interaction_count: 0.0270\n",
      "number_of_courses_viewed & interaction_count: 0.0236\n",
      "annual_income & lead_score: 0.0156\n",
      "interaction_count & lead_score: 0.0099\n",
      "number_of_courses_viewed & annual_income: 0.0098\n",
      "\n",
      "Specific pairs mentioned in question:\n",
      "interaction_count & lead_score: 0.0099\n",
      "number_of_courses_viewed & lead_score: -0.0049\n",
      "number_of_courses_viewed & interaction_count: -0.0236\n",
      "annual_income & interaction_count: 0.0270\n"
     ]
    }
   ],
   "source": [
    "correlation_matrix = data[numerical_cols].corr()\n",
    "print(\"Correlation Matrix:\")\n",
    "print(correlation_matrix)\n",
    "\n",
    "corr_pairs = []\n",
    "for i in range(len(numerical_cols)):\n",
    "    for j in range(i+1, len(numerical_cols)):\n",
    "        col1, col2 = numerical_cols[i], numerical_cols[j]\n",
    "        corr_value = correlation_matrix.loc[col1, col2]\n",
    "        corr_pairs.append(((col1, col2), abs(corr_value)))\n",
    "\n",
    "corr_pairs_sorted = sorted(corr_pairs, key=lambda x: x[1], reverse=True)\n",
    "\n",
    "print(\"\\nTop correlated pairs:\")\n",
    "for (col1, col2), corr_value in corr_pairs_sorted[:5]:\n",
    "    print(f\"{col1} & {col2}: {corr_value:.4f}\")\n",
    "\n",
    "specific_pairs = [\n",
    "    ('interaction_count', 'lead_score'),\n",
    "    ('number_of_courses_viewed', 'lead_score'),\n",
    "    ('number_of_courses_viewed', 'interaction_count'),\n",
    "    ('annual_income', 'interaction_count')\n",
    "]\n",
    "\n",
    "print(\"\\nSpecific pairs mentioned in question:\")\n",
    "for col1, col2 in specific_pairs:\n",
    "    if col1 in numerical_cols and col2 in numerical_cols:\n",
    "        corr_value = correlation_matrix.loc[col1, col2]\n",
    "        print(f\"{col1} & {col2}: {corr_value:.4f}\")"
   ]
  },
  {
   "cell_type": "code",
   "execution_count": 6,
   "id": "ebc2a245-9562-437d-9ea9-3626fe5d04c5",
   "metadata": {},
   "outputs": [
    {
     "name": "stdout",
     "output_type": "stream",
     "text": [
      "Training set: 877 samples\n",
      "Validation set: 292 samples\n",
      "Test set: 293 samples\n"
     ]
    }
   ],
   "source": [
    "X = data.drop('converted', axis=1)\n",
    "y = data['converted']\n",
    "X_train, X_temp, y_train, y_temp = train_test_split(X, y, test_size=0.4, random_state=42)\n",
    "X_val, X_test, y_val, y_test = train_test_split(X_temp, y_temp, test_size=0.5, random_state=42)\n",
    "\n",
    "print(f\"Training set: {X_train.shape[0]} samples\")\n",
    "print(f\"Validation set: {X_val.shape[0]} samples\")\n",
    "print(f\"Test set: {X_test.shape[0]} samples\")"
   ]
  },
  {
   "cell_type": "code",
   "execution_count": 10,
   "id": "c3286d93-5feb-441b-bb16-a00b41c021c1",
   "metadata": {},
   "outputs": [
    {
     "name": "stdout",
     "output_type": "stream",
     "text": [
      "Mutual Information Scores (rounded to 2 decimals):\n",
      "             feature  mi_score_rounded\n",
      "0        lead_source              0.03\n",
      "2  employment_status              0.02\n",
      "1           industry              0.02\n",
      "3           location              0.00\n",
      "\n",
      "Question 3: Variable with biggest mutual information score: lead_source (score: 0.03)\n"
     ]
    }
   ],
   "source": [
    "from sklearn.preprocessing import LabelEncoder\n",
    "\n",
    "categorical_features = X_train[categorical_cols].copy()\n",
    "\n",
    "categorical_encoded = categorical_features.copy()\n",
    "label_encoders = {}\n",
    "\n",
    "for col in categorical_cols:\n",
    "    le = LabelEncoder()\n",
    "    categorical_encoded[col] = le.fit_transform(categorical_features[col].astype(str))\n",
    "    label_encoders[col] = le\n",
    "\n",
    "mi_scores = mutual_info_classif(categorical_encoded, y_train, random_state=42, discrete_features=True)\n",
    "mi_results = pd.DataFrame({\n",
    "    'feature': categorical_cols,\n",
    "    'mi_score': mi_scores\n",
    "}).sort_values('mi_score', ascending=False)\n",
    "\n",
    "print(\"Mutual Information Scores (rounded to 2 decimals):\")\n",
    "mi_results['mi_score_rounded'] = mi_results['mi_score'].round(2)\n",
    "print(mi_results[['feature', 'mi_score_rounded']])\n",
    "\n",
    "max_mi_feature = mi_results.iloc[0]['feature']\n",
    "max_mi_score = mi_results.iloc[0]['mi_score_rounded']\n",
    "print(f\"\\nQuestion 3: Variable with biggest mutual information score: {max_mi_feature} (score: {max_mi_score})\")"
   ]
  },
  {
   "cell_type": "code",
   "execution_count": 11,
   "id": "520e5d14-1e78-4e59-9335-12c0ea761848",
   "metadata": {},
   "outputs": [
    {
     "name": "stdout",
     "output_type": "stream",
     "text": [
      "Training features after encoding: (877, 31)\n",
      "Validation features after encoding: (292, 31)\n",
      "\n",
      "Question 4: Accuracy on validation set: 0.74\n"
     ]
    }
   ],
   "source": [
    "X_train_encoded = pd.get_dummies(X_train, columns=categorical_cols)\n",
    "X_val_encoded = pd.get_dummies(X_val, columns=categorical_cols)\n",
    "\n",
    "X_val_encoded = X_val_encoded.reindex(columns=X_train_encoded.columns, fill_value=0)\n",
    "\n",
    "print(f\"Training features after encoding: {X_train_encoded.shape}\")\n",
    "print(f\"Validation features after encoding: {X_val_encoded.shape}\")\n",
    "\n",
    "model = LogisticRegression(solver='liblinear', C=1.0, max_iter=1000, random_state=42)\n",
    "model.fit(X_train_encoded, y_train)\n",
    "\n",
    "y_val_pred = model.predict(X_val_encoded)\n",
    "accuracy = accuracy_score(y_val, y_val_pred)\n",
    "\n",
    "print(f\"\\nQuestion 4: Accuracy on validation set: {accuracy:.2f}\")"
   ]
  },
  {
   "cell_type": "code",
   "execution_count": 12,
   "id": "dc20f18b-af8a-41e6-a17e-9ee07f44f1bf",
   "metadata": {},
   "outputs": [
    {
     "name": "stdout",
     "output_type": "stream",
     "text": [
      "Original accuracy: 0.7432\n",
      "Without industry: Accuracy = 0.7432, Difference = 0.0000\n",
      "Without employment_status: Accuracy = 0.7466, Difference = -0.0034\n",
      "Without lead_score: Accuracy = 0.7432, Difference = 0.0000\n",
      "\n",
      "Question 5: Feature with smallest difference: industry (difference: 0.0000)\n"
     ]
    }
   ],
   "source": [
    "\n",
    "original_accuracy = accuracy_score(y_val, y_val_pred)\n",
    "print(f\"Original accuracy: {original_accuracy:.4f}\")\n",
    "features_to_test = ['industry', 'employment_status', 'lead_score']\n",
    "accuracy_differences = {}\n",
    "\n",
    "for feature in features_to_test:\n",
    "    if feature in categorical_cols:\n",
    "\n",
    "        cols_to_remove = [col for col in X_train_encoded.columns if col.startswith(feature + '_')]\n",
    "        X_train_reduced = X_train_encoded.drop(cols_to_remove, axis=1)\n",
    "        X_val_reduced = X_val_encoded.drop(cols_to_remove, axis=1)\n",
    "    else:\n",
    "\n",
    "        X_train_reduced = X_train_encoded.drop(feature, axis=1)\n",
    "        X_val_reduced = X_val_encoded.drop(feature, axis=1)\n",
    "    model_reduced = LogisticRegression(solver='liblinear', C=1.0, max_iter=1000, random_state=42)\n",
    "    model_reduced.fit(X_train_reduced, y_train)\n",
    "\n",
    "    y_val_pred_reduced = model_reduced.predict(X_val_reduced)\n",
    "    accuracy_reduced = accuracy_score(y_val, y_val_pred_reduced)\n",
    "\n",
    "    difference = original_accuracy - accuracy_reduced\n",
    "    accuracy_differences[feature] = difference\n",
    "    \n",
    "    print(f\"Without {feature}: Accuracy = {accuracy_reduced:.4f}, Difference = {difference:.4f}\")\n",
    "\n",
    "smallest_diff_feature = min(accuracy_differences.items(), key=lambda x: abs(x[1]))\n",
    "print(f\"\\nQuestion 5: Feature with smallest difference: {smallest_diff_feature[0]} (difference: {smallest_diff_feature[1]:.4f})\")"
   ]
  },
  {
   "cell_type": "code",
   "execution_count": 13,
   "id": "c4d963e5-83a1-4db6-ab76-5f4df5840dd4",
   "metadata": {},
   "outputs": [
    {
     "name": "stdout",
     "output_type": "stream",
     "text": [
      "Regularized Logistic Regression Results:\n",
      "C = 0.01: Accuracy = 0.743\n",
      "C = 0.1: Accuracy = 0.743\n",
      "C = 1: Accuracy = 0.743\n",
      "C = 10: Accuracy = 0.743\n",
      "C = 100: Accuracy = 0.743\n",
      "\n",
      "Question 6: Best C value: 0.01 (accuracy: 0.743)\n"
     ]
    }
   ],
   "source": [
    "C_values = [0.01, 0.1, 1, 10, 100]\n",
    "best_accuracy = 0\n",
    "best_C = None\n",
    "\n",
    "print(\"Regularized Logistic Regression Results:\")\n",
    "for C in C_values:\n",
    "    model_reg = LogisticRegression(solver='liblinear', C=C, max_iter=1000, random_state=42)\n",
    "    model_reg.fit(X_train_encoded, y_train)\n",
    "    \n",
    "    y_val_pred_reg = model_reg.predict(X_val_encoded)\n",
    "    accuracy_reg = accuracy_score(y_val, y_val_pred_reg)\n",
    "    \n",
    "    print(f\"C = {C}: Accuracy = {accuracy_reg:.3f}\")\n",
    "    \n",
    "    if accuracy_reg > best_accuracy:\n",
    "        best_accuracy = accuracy_reg\n",
    "        best_C = C\n",
    "\n",
    "print(f\"\\nQuestion 6: Best C value: {best_C} (accuracy: {best_accuracy:.3f})\")\n"
   ]
  },
  {
   "cell_type": "code",
   "execution_count": null,
   "id": "262a2029-1107-4a0e-b584-50c0d429df8d",
   "metadata": {},
   "outputs": [],
   "source": []
  }
 ],
 "metadata": {
  "kernelspec": {
   "display_name": "Python 3 (ipykernel)",
   "language": "python",
   "name": "python3"
  },
  "language_info": {
   "codemirror_mode": {
    "name": "ipython",
    "version": 3
   },
   "file_extension": ".py",
   "mimetype": "text/x-python",
   "name": "python",
   "nbconvert_exporter": "python",
   "pygments_lexer": "ipython3",
   "version": "3.12.3"
  }
 },
 "nbformat": 4,
 "nbformat_minor": 5
}
